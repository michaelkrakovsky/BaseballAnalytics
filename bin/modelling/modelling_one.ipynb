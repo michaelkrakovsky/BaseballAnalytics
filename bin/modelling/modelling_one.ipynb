{
 "cells": [
  {
   "cell_type": "code",
   "execution_count": 1,
   "metadata": {},
   "outputs": [],
   "source": [
    "# The intent of the notebook is to begin modelling the baseball data. This will likely not be the final model, \n",
    "#     however, it will act as a building block to more advanced models.\n",
    "# Version: 1.0"
   ]
  },
  {
   "cell_type": "code",
   "execution_count": 1,
   "metadata": {},
   "outputs": [],
   "source": [
    "import import_ipynb\n",
    "from sklearn import svm\n",
    "from pymysql import connect\n",
    "from sys import path\n",
    "path.append('../../../') \n",
    "from BaseballAnalytics.bin.app_utils.queries import Queries\n",
    "import numpy"
   ]
  },
  {
   "cell_type": "code",
   "execution_count": 2,
   "metadata": {},
   "outputs": [],
   "source": [
    "# Connect to the database.\n",
    "conn = connect(host=\"localhost\", user=\"root\", passwd=\"praquplDop#odlg73h?c\", db=\"baseball_stats_db\")\n",
    "qu = Queries(conn)"
   ]
  },
  {
   "cell_type": "code",
   "execution_count": 3,
   "metadata": {},
   "outputs": [
    {
     "output_type": "execute_result",
     "data": {
      "text/plain": "(('BOS199004090', 1990, 9, 4, 5, 2, 'BOS', 'DET', 0),\n ('CAL199004090', 1990, 9, 4, 4, 7, 'CAL', 'SEA', 1),\n ('CHA199004090', 1990, 9, 4, 2, 1, 'CHA', 'MIL', 0),\n ('HOU199004090', 1990, 9, 4, 4, 8, 'HOU', 'CIN', 1),\n ('KCA199004090', 1990, 9, 4, 6, 7, 'KCA', 'BAL', 1))"
     },
     "metadata": {},
     "execution_count": 3
    }
   ],
   "source": [
    "# Get all the game ids. The information is returned as \n",
    "#    (Game_ID, year, day, month, Home_Score, Vis_Score, Home_Team, Visitng_Team, Home_Win) where a winning home team is flagged at 0.\n",
    "game_outcomes = qu.get_game_outcomes()         \n",
    "game_outcomes[0:5]"
   ]
  },
  {
   "cell_type": "code",
   "execution_count": null,
   "metadata": {},
   "outputs": [],
   "source": [
    "# Acquire only the outcomes.\n",
    "game_only_outcomes = qu.get_only_outcomes()\n",
    "game_only_outcomes[0:5]"
   ]
  },
  {
   "cell_type": "code",
   "execution_count": 7,
   "metadata": {},
   "outputs": [
    {
     "output_type": "error",
     "ename": "NameError",
     "evalue": "name 'game_id' is not defined",
     "traceback": [
      "\u001b[1;31m---------------------------------------------------------------------------\u001b[0m",
      "\u001b[1;31mNameError\u001b[0m                                 Traceback (most recent call last)",
      "\u001b[1;32m<ipython-input-7-3ced3dc96e38>\u001b[0m in \u001b[0;36m<module>\u001b[1;34m\u001b[0m\n\u001b[0;32m     17\u001b[0m     \u001b[0minner\u001b[0m \u001b[0mjoin\u001b[0m \u001b[0mevent_shortstop\u001b[0m \u001b[0mon\u001b[0m \u001b[0mevent_shortstop\u001b[0m\u001b[1;33m.\u001b[0m\u001b[0midEvent\u001b[0m\u001b[1;33m=\u001b[0m\u001b[0mevent_instance\u001b[0m\u001b[1;33m.\u001b[0m\u001b[0midEvent\u001b[0m\u001b[1;33m\u001b[0m\u001b[1;33m\u001b[0m\u001b[0m\n\u001b[0;32m     18\u001b[0m     \u001b[0mwhere\u001b[0m \u001b[0mevent_instance\u001b[0m\u001b[1;33m.\u001b[0m\u001b[0mGame_ID\u001b[0m \u001b[1;33m=\u001b[0m \u001b[1;34m'{}'\u001b[0m \u001b[0morder\u001b[0m \u001b[0mby\u001b[0m \u001b[0mbatter_in_event\u001b[0m\u001b[1;33m.\u001b[0m\u001b[0mbatting_team\u001b[0m\u001b[1;33m,\u001b[0m \u001b[0mCHAR_LENGTH\u001b[0m\u001b[1;33m(\u001b[0m\u001b[0mevent_instance\u001b[0m\u001b[1;33m.\u001b[0m\u001b[0midEvent\u001b[0m\u001b[1;33m)\u001b[0m\u001b[1;33m,\u001b[0m \u001b[0mevent_instance\u001b[0m\u001b[1;33m.\u001b[0m\u001b[0midEvent\u001b[0m\u001b[1;33m;\u001b[0m\u001b[1;33m\u001b[0m\u001b[1;33m\u001b[0m\u001b[0m\n\u001b[1;32m---> 19\u001b[1;33m     \"\"\".format(game_id)\n\u001b[0m",
      "\u001b[1;31mNameError\u001b[0m: name 'game_id' is not defined"
     ]
    }
   ],
   "source": []
  },
  {
   "cell_type": "code",
   "execution_count": null,
   "metadata": {},
   "outputs": [],
   "source": []
  }
 ],
 "metadata": {
  "language_info": {
   "codemirror_mode": {
    "name": "ipython",
    "version": 3
   },
   "file_extension": ".py",
   "mimetype": "text/x-python",
   "name": "python",
   "nbconvert_exporter": "python",
   "pygments_lexer": "ipython3",
   "version": "3.7.1-final"
  },
  "orig_nbformat": 2,
  "kernelspec": {
   "name": "python37164bite7ff45ce47a142899b62dd87dcc08a30",
   "display_name": "Python 3.7.1 64-bit"
  }
 },
 "nbformat": 4,
 "nbformat_minor": 2
}