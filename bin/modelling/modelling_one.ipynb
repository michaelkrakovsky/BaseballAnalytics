{
 "cells": [
  {
   "cell_type": "code",
   "execution_count": 1,
   "metadata": {},
   "outputs": [],
   "source": [
    "# The intent of the notebook is to begin modelling the baseball data. This will likely not be the final model, \n",
    "#     however,z it will act as a building block to more advanced models.\n",
    "# Version: 1.0"
   ]
  },
  {
   "cell_type": "code",
   "execution_count": 1,
   "metadata": {},
   "outputs": [],
   "source": [
    "import import_ipynb\n",
    "from sklearn import svm\n",
    "from pymysql import connect\n",
    "from sys import path\n",
    "path.append('../../../') \n",
    "from BaseballAnalytics.bin.app_utils.queries import Queries\n",
    "import numpy"
   ]
  },
  {
   "cell_type": "code",
   "execution_count": 2,
   "metadata": {},
   "outputs": [],
   "source": [
    "# Connect to the database.\n",
    "conn = connect(host=\"localhost\", user=\"root\", passwd=\"praquplDop#odlg73h?c\", db=\"baseball_stats_db\")\n",
    "qu = Queries(conn)"
   ]
  },
  {
   "cell_type": "code",
   "execution_count": 4,
   "metadata": {},
   "outputs": [
    {
     "output_type": "execute_result",
     "data": {
      "text/plain": "(('BOS199004090', 1990, 9, 4, 5, 2, 'BOS', 'DET', 0),\n ('CAL199004090', 1990, 9, 4, 4, 7, 'CAL', 'SEA', 1),\n ('CHA199004090', 1990, 9, 4, 2, 1, 'CHA', 'MIL', 0),\n ('HOU199004090', 1990, 9, 4, 4, 8, 'HOU', 'CIN', 1),\n ('KCA199004090', 1990, 9, 4, 6, 7, 'KCA', 'BAL', 1))"
     },
     "metadata": {},
     "execution_count": 4
    }
   ],
   "source": [
    "# Get all the game ids. The information is returned as \n",
    "#    (Game_ID, year, day, month, Home_Score, Vis_Score, Home_Team, Visitng_Team, Home_Win) where a winning home team is flagged at 0.\n",
    "game_outcomes = qu.get_game_outcomes()         \n",
    "game_outcomes[0:5]"
   ]
  },
  {
   "cell_type": "code",
   "execution_count": 5,
   "metadata": {},
   "outputs": [
    {
     "output_type": "execute_result",
     "data": {
      "text/plain": "[0, 1, 0, 1, 1]"
     },
     "metadata": {},
     "execution_count": 5
    }
   ],
   "source": [
    "# Acquire only the outcomes.\n",
    "game_only_outcomes = qu.get_only_outcomes()\n",
    "game_only_outcomes[0:5]"
   ]
  },
  {
   "cell_type": "code",
   "execution_count": 10,
   "metadata": {
    "tags": [
     "outputPrepend"
    ]
   },
   "outputs": [
    {
     "output_type": "stream",
     "name": "stdout",
     "text": "The number of game ids: 70101\n"
    },
    {
     "output_type": "execute_result",
     "data": {
      "text/plain": "['BOS199004090',\n 'CAL199004090',\n 'CHA199004090',\n 'HOU199004090',\n 'KCA199004090']"
     },
     "metadata": {},
     "execution_count": 10
    }
   ],
   "source": [
    "# Retrieve only the game ids.\n",
    "game_ids = [game_id[0] for game_id in game_outcomes]\n",
    "print(\"The number of game ids: {}\".format(len(game_ids)))\n",
    "game_ids[0:5]"
   ]
  },
  {
   "cell_type": "code",
   "execution_count": 32,
   "metadata": {},
   "outputs": [],
   "source": [
    "from warnings import filterwarnings\n",
    "from BaseballAnalytics.bin.app_utils.common_help import Log_Helper\n",
    "\n",
    "def fetch_data(query):\n",
    "\n",
    "    # Function Description: Retrieve all the data given a particular query.\n",
    "    # Function Parameters: query (The query to execute in the database.)\n",
    "    # Function Throws: Nothing\n",
    "    # Function Returns: The contents from the query.\n",
    "    \n",
    "    filterwarnings('error')    \n",
    "    try:\n",
    "        with conn.cursor() as c:\n",
    "            c.execute(query)\n",
    "            filterwarnings('always')\n",
    "            return c.fetchall()\n",
    "    except Exception as ex:\n",
    "        print(\"The expections {}\".format(ex))\n",
    "        print(\"The query {}\".format(query))\n",
    "        raise Exception(\"A fire is buring in fetch_data.\")\n",
    "\n",
    "def get_game_outcomes():\n",
    "\n",
    "    # Function Description: The function will retrieve the game outcomes with the date in separated columns.\n",
    "    # Function Parameters: Nothing\n",
    "    # Function Throws: Nothing\n",
    "    # Function Returns: The list of game ids with the associated outcomes and dates. \n",
    "    #     (Game_ID, year, day, month, Home_Score, Vis_Score, Home_Team, Visitng_Team, Home_Win) where a winning home team is flagged at 0.\n",
    "\n",
    "    return fetch_data(\"\"\"select event_instance.Game_ID, year(game_day.Date), day(game_day.Date), month(game_day.Date), event_instance.Home_Score, \n",
    "                                event_instance.Vis_Score, game_day.Home_Team, game_day.Visiting_Team,\n",
    "                                (case when event_instance.Vis_Score > event_instance.Home_Score then 1 else 0 end) as Home_Win\n",
    "                                    from event_instance\n",
    "                                    inner join game_day on event_instance.Game_ID=game_day.Game_ID \n",
    "                                    where event_instance.End_Game_Flag = 'T'\n",
    "                                    order by game_day.Date, game_day.Game_ID;\"\"\")\n",
    "\n",
    "def get_only_outcomes():\n",
    "\n",
    "    # Function Description: The function returns only the outputs given the same conditions of the query in get_game_outcomes above. This ensures consistancy and allows the user to inspect the \n",
    "    #    outcomes prior to only desiring the outcomes.\n",
    "    # Function Parameters: Nothing\n",
    "    # Function Throws: Nothing\n",
    "    # Function Returns: The list of game outcomes as 0s and 1s where a winning home team is flagged at 0.\n",
    "\n",
    "    outcomes = fetch_data(\"\"\"select (case when event_instance.Vis_Score > event_instance.Home_Score then 1 else 0 end) as Home_Win\n",
    "                            from event_instance\n",
    "                            inner join game_day on event_instance.Game_ID=game_day.Game_ID \n",
    "                            where event_instance.End_Game_Flag = 'T'\n",
    "                            order by game_day.Date, game_day.Game_ID;\"\"\")\n",
    "    list_outcomes = []\n",
    "    for outcome in outcomes:\n",
    "        list_outcomes.append(outcome[0])\n",
    "    return list_outcomes\n",
    "\n",
    "def get_players_in_game_vOne(game_id):\n",
    "\n",
    "    # Function Description: The function returns only the players and the starting pitcher with the respective game ids. This will be the first attempt of gathering\n",
    "    #    the starting lineup.\n",
    "    # Function Parameters: game_id (The game_id you wish to use to get the game participants.)\n",
    "    # Function Throws: Nothing\n",
    "    # Function Returns: A tuple containing two lists. The first list contains the home team names while the second list contains the away teams.\n",
    "\n",
    "    # Home Team equals 1 for Batting Team. The query is formatted like such: \n",
    "    #     Game_ID, Batting_Team, Pitcher_Name, Catcher, Center_Field, Left_Field, Right_Field, First_Base, Second_Base, Third_Base, Shortstop\n",
    "    game_participants = fetch_data(\"\"\"\n",
    "                                        select Distinct game_day.Game_ID, batter_in_event.Batting_Team, pitcher_in_event.Pitcher_Name,       \n",
    "                                        event_catcher.Catcher, event_centre_field.Center_Field, event_left_field.Left_Field,\n",
    "                                        event_right_field.Right_Field, event_first_base.First_Base, event_second_base.Second_Base, \n",
    "                                        event_third_base.Third_Base, event_shortstop.Shortstop\n",
    "                                            from game_day\n",
    "                                            inner join event_instance on game_day.Game_ID=event_instance.Game_ID\n",
    "                                            inner join batter_in_event on event_instance.idEvent=batter_in_event.idEvent\n",
    "                                            inner join pitcher_in_event on pitcher_in_event.idEvent=event_instance.idEvent\n",
    "                                            inner join event_catcher on event_catcher.idEvent=event_instance.idEvent\n",
    "                                            inner join event_centre_field on event_centre_field.idEvent=event_instance.idEvent\n",
    "                                            inner join event_left_field on event_left_field.idEvent=event_instance.idEvent\n",
    "                                            inner join event_right_field on event_right_field.idEvent=event_instance.idEvent\n",
    "                                            inner join event_first_base on event_first_base.idEvent=event_instance.idEvent\n",
    "                                            inner join event_second_base on event_second_base.idEvent=event_instance.idEvent\n",
    "                                            inner join event_third_base on event_third_base.idEvent=event_instance.idEvent\n",
    "                                            inner join event_shortstop on event_shortstop.idEvent=event_instance.idEvent\n",
    "                                            where event_instance.Game_ID = '{}' order by batter_in_event.batting_team, CHAR_LENGTH(event_instance.idEvent), event_instance.idEvent;\n",
    "                                            \"\"\".format(game_id))\n",
    "    game_vistors = game_participants[0][2:]                             # Given the query conditions, this will always provide the starting lineups.\n",
    "    for loc, part in enumerate(game_participants):\n",
    "        if part[1] == 1:\n",
    "            game_homers = game_participants[loc][2:]                      # This will provide the values of the home team. Once retrieved, we have all what we need.\n",
    "            break\n",
    "    return (game_vistors, game_homers)\n",
    "\n",
    "def get_offensive_features(player_id, game_id):\n",
    "\n",
    "    # Function Description: Retrieve the features of a given player prior to entering the new game. The features are available from the previous game.\n",
    "    # Function Parameters: player_id (The player id associated in which we wish to retrieve the data.), game_id (The game id needed to look backwards.)\n",
    "    # Function Throws: Nothing\n",
    "    # Function Returns: A list containing the offensive features. The amount of features was determined in previous queries but does not matter in this function.\n",
    "    #    If the player does not have much data, I will be returning -1 to signal the prescence of a new player.\n",
    "\n",
    "    features = fetch_data(\"\"\"\n",
    "                                select Ten_Rolling_BA, Ten_Rolling_OBP, Ten_Rolling_SLG from offensive_features inner join\n",
    "                                game_day on game_day.Game_ID=offensive_features.Game_ID\n",
    "                                where player_id = '{}'\n",
    "                                and game_day.Date < (select game_day.Date from game_day where game_day.Game_ID = '{}')\n",
    "                                order by game_day.Date Desc;\n",
    "                                \"\"\".format(player_id, game_id))\n",
    "    if len(features) < 10:\n",
    "        return [-1, -1, -1]\n",
    "    return list(features[0])                           # Return the first row which contains the data from the previous day.\n",
    "\n",
    "def get_pitchers_features(player_id, game_id):\n",
    "\n",
    "    # Function Description: Retrieve the features of a given pitcher prior to entering the new game. The features are available from the previous game.\n",
    "    # Function Parameters: player_id (The player id associated in which we wish to retrieve the data.), game_id (The game id needed to look backwards.)\n",
    "    # Function Throws: Nothing\n",
    "    # Function Returns: A list containing the offensive features. The amount of features was determined in previous queries but does not matter in this function.\n",
    "    #    If the player does not have much data, I will be returning -1 to signal the prescence of a new player.\n",
    "\n",
    "    features = fetch_data(\"\"\"\n",
    "                                select Ten_Rolling_Ks, Ten_Rolling_WHIP, Ten_Rolling_RA from pitching_features inner join\n",
    "                                game_day on game_day.Game_ID=pitching_features.Game_ID\n",
    "                                where player_id = '{}'\n",
    "                                and game_day.Date < (select game_day.Date from game_day where game_day.Game_ID = '{}')\n",
    "                                order by game_day.Date Desc;\n",
    "                                \"\"\".format(player_id, game_id))\n",
    "    if len(features) < 5:                              # I reduced the number of previous games for pitcher by half.\n",
    "        return [-1, -1, -1]\n",
    "    return list(features[0])                           # Return the first row which contains the data from the previous day.\n",
    "\n",
    "def sub_pitching_features(pitchers, game_id):\n",
    "\n",
    "    # Function Description: Substitute the pitcher ids provided with the pitching features. The features will be returned in the same order the names are provided.\n",
    "    # Function Parameters: pitchers (The player id we wish to retrieve the data for.), game_id (The game id needed to look backwards.) \n",
    "    # Function Throws: Nothing\n",
    "    # Function Returns: A complete list of the featues to be inputted into the model. The list will vary depending on the number of players and features for each player.\n",
    "\n",
    "    pitcher_features = []\n",
    "    for pitcher in pitchers:\n",
    "        pitcher_features = pitcher_features + get_pitchers_features(pitcher, game_id)\n",
    "    return pitcher_features\n",
    "\n",
    "def sub_offensive_features(batters, game_id):\n",
    "\n",
    "    # Function Description: Substitute the batters ids provided with the batting features. The features will be returned in the same order the names are provided.\n",
    "    # Function Parameters: batters (The player id we wish to retrieve the data for.), game_id (The game id needed to look backwards.) \n",
    "    # Function Throws: Nothing\n",
    "    # Function Returns: A complete list of the featues to be inputted into the model. The list will vary depending on the number of players and features for each player.\n",
    "\n",
    "    offensive_features = []\n",
    "    for batter in batters:\n",
    "        offensive_features = offensive_features + get_offensive_features(batter, game_id)\n",
    "    return offensive_features\n",
    "\n",
    "def get_game_features(game_id):\n",
    "\n",
    "    # Function Description: Get all the features for a given game id. This involves getting the players who played in the game and then retrieving their associated features.\n",
    "    # Function Parameters: game_id (The game id used to acquire the player features.)\n",
    "    # Function Throws: Nothing\n",
    "    # Function Returns: A single list containing the features of the game.\n",
    "\n",
    "    game_features = []\n",
    "    vis_players, home_players = get_players_in_game_vOne(game_id)\n",
    "    game_features += get_pitchers_features(vis_players[0], game_id) \n",
    "    for player_id in vis_players[1:]:                                             # Add all the visitor players to the feature sets.\n",
    "        game_features += get_offensive_features(player_id, game_id)   \n",
    "    game_features += get_pitchers_features(home_players[0], game_id) \n",
    "    for player_id in home_players[1:]:\n",
    "        game_features += get_offensive_features(player_id, game_id)          # Add all the home players to the feature sets.\n",
    "    return game_features\n",
    "\n",
    "def get_all_game_features(game_ids):\n",
    "\n",
    "    # Function Description: Given a list of game ids, retrieve the features for every game.\n",
    "    # Function Parameters: game_ids (The list of game ids.)\n",
    "    # Function Throws: Nothing\n",
    "    # Function Returns: A list of lists containing the game features.\n",
    "\n",
    "    num_games = len(game_ids)\n",
    "    all_game_features = []\n",
    "    lh = Log_Helper()\n",
    "    lh.print_progress_bar(0, num_games, prefix = 'Progress:', suffix = 'Complete', length = 50)           # Initial call to print 0% progress\n",
    "    for num, game_id in enumerate(game_ids):\n",
    "        all_game_features += get_game_features(game_id)\n",
    "        lh.print_progress_bar(num + 1, num_games, prefix = 'Progress:', suffix = 'Complete', length = 50)           # Initial call to print 0% progress\n",
    "    return all_game_features"
   ]
  },
  {
   "cell_type": "code",
   "execution_count": 33,
   "metadata": {},
   "outputs": [
    {
     "output_type": "stream",
     "name": "stdout",
     "text": "The expections name 'self' is not defined\nThe query \n                                        select Distinct game_day.Game_ID, batter_in_event.Batting_Team, pitcher_in_event.Pitcher_Name,       \n                                        event_catcher.Catcher, event_centre_field.Center_Field, event_left_field.Left_Field,\n                                        event_right_field.Right_Field, event_first_base.First_Base, event_second_base.Second_Base, \n                                        event_third_base.Third_Base, event_shortstop.Shortstop\n                                            from game_day\n                                            inner join event_instance on game_day.Game_ID=event_instance.Game_ID\n                                            inner join batter_in_event on event_instance.idEvent=batter_in_event.idEvent\n                                            inner join pitcher_in_event on pitcher_in_event.idEvent=event_instance.idEvent\n                                            inner join event_catcher on event_catcher.idEvent=event_instance.idEvent\n                                            inner join event_centre_field on event_centre_field.idEvent=event_instance.idEvent\n                                            inner join event_left_field on event_left_field.idEvent=event_instance.idEvent\n                                            inner join event_right_field on event_right_field.idEvent=event_instance.idEvent\n                                            inner join event_first_base on event_first_base.idEvent=event_instance.idEvent\n                                            inner join event_second_base on event_second_base.idEvent=event_instance.idEvent\n                                            inner join event_third_base on event_third_base.idEvent=event_instance.idEvent\n                                            inner join event_shortstop on event_shortstop.idEvent=event_instance.idEvent\n                                            where event_instance.Game_ID = 'SLN199106250' order by batter_in_event.batting_team, CHAR_LENGTH(event_instance.idEvent), event_instance.idEvent;\n                                            \n"
    },
    {
     "output_type": "error",
     "ename": "Exception",
     "evalue": "A fire is buring in fetch_data.",
     "traceback": [
      "\u001b[1;31m---------------------------------------------------------------------------\u001b[0m",
      "\u001b[1;31mNameError\u001b[0m                                 Traceback (most recent call last)",
      "\u001b[1;32m<ipython-input-32-344212d2f7c9>\u001b[0m in \u001b[0;36mfetch_data\u001b[1;34m(query)\u001b[0m\n\u001b[0;32m     12\u001b[0m     \u001b[1;32mtry\u001b[0m\u001b[1;33m:\u001b[0m\u001b[1;33m\u001b[0m\u001b[1;33m\u001b[0m\u001b[0m\n\u001b[1;32m---> 13\u001b[1;33m         \u001b[1;32mwith\u001b[0m \u001b[0mself\u001b[0m\u001b[1;33m.\u001b[0m\u001b[0m__db_connection__\u001b[0m\u001b[1;33m.\u001b[0m\u001b[0mcursor\u001b[0m\u001b[1;33m(\u001b[0m\u001b[1;33m)\u001b[0m \u001b[1;32mas\u001b[0m \u001b[0mc\u001b[0m\u001b[1;33m:\u001b[0m\u001b[1;33m\u001b[0m\u001b[1;33m\u001b[0m\u001b[0m\n\u001b[0m\u001b[0;32m     14\u001b[0m             \u001b[0mc\u001b[0m\u001b[1;33m.\u001b[0m\u001b[0mexecute\u001b[0m\u001b[1;33m(\u001b[0m\u001b[0mquery\u001b[0m\u001b[1;33m)\u001b[0m\u001b[1;33m\u001b[0m\u001b[1;33m\u001b[0m\u001b[0m\n",
      "\u001b[1;31mNameError\u001b[0m: name 'self' is not defined",
      "\nDuring handling of the above exception, another exception occurred:\n",
      "\u001b[1;31mException\u001b[0m                                 Traceback (most recent call last)",
      "\u001b[1;32m<ipython-input-33-bc172931c95d>\u001b[0m in \u001b[0;36m<module>\u001b[1;34m\u001b[0m\n\u001b[0;32m      1\u001b[0m \u001b[1;31m# Get only the feature ids.\u001b[0m\u001b[1;33m\u001b[0m\u001b[1;33m\u001b[0m\u001b[1;33m\u001b[0m\u001b[0m\n\u001b[1;32m----> 2\u001b[1;33m \u001b[0mfeatures\u001b[0m \u001b[1;33m=\u001b[0m \u001b[0mget_all_game_features\u001b[0m\u001b[1;33m(\u001b[0m\u001b[0mgame_ids\u001b[0m\u001b[1;33m[\u001b[0m\u001b[1;36m3000\u001b[0m\u001b[1;33m:\u001b[0m\u001b[1;36m3001\u001b[0m\u001b[1;33m]\u001b[0m\u001b[1;33m)\u001b[0m\u001b[1;33m\u001b[0m\u001b[1;33m\u001b[0m\u001b[0m\n\u001b[0m",
      "\u001b[1;32m<ipython-input-32-344212d2f7c9>\u001b[0m in \u001b[0;36mget_all_game_features\u001b[1;34m(game_ids)\u001b[0m\n\u001b[0;32m    181\u001b[0m     \u001b[0mlh\u001b[0m\u001b[1;33m.\u001b[0m\u001b[0mprint_progress_bar\u001b[0m\u001b[1;33m(\u001b[0m\u001b[1;36m0\u001b[0m\u001b[1;33m,\u001b[0m \u001b[0mnum_games\u001b[0m\u001b[1;33m,\u001b[0m \u001b[0mprefix\u001b[0m \u001b[1;33m=\u001b[0m \u001b[1;34m'Progress:'\u001b[0m\u001b[1;33m,\u001b[0m \u001b[0msuffix\u001b[0m \u001b[1;33m=\u001b[0m \u001b[1;34m'Complete'\u001b[0m\u001b[1;33m,\u001b[0m \u001b[0mlength\u001b[0m \u001b[1;33m=\u001b[0m \u001b[1;36m50\u001b[0m\u001b[1;33m)\u001b[0m           \u001b[1;31m# Initial call to print 0% progress\u001b[0m\u001b[1;33m\u001b[0m\u001b[1;33m\u001b[0m\u001b[0m\n\u001b[0;32m    182\u001b[0m     \u001b[1;32mfor\u001b[0m \u001b[0mnum\u001b[0m\u001b[1;33m,\u001b[0m \u001b[0mgame_id\u001b[0m \u001b[1;32min\u001b[0m \u001b[0menumerate\u001b[0m\u001b[1;33m(\u001b[0m\u001b[0mgame_ids\u001b[0m\u001b[1;33m)\u001b[0m\u001b[1;33m:\u001b[0m\u001b[1;33m\u001b[0m\u001b[1;33m\u001b[0m\u001b[0m\n\u001b[1;32m--> 183\u001b[1;33m         \u001b[0mall_game_features\u001b[0m \u001b[1;33m+=\u001b[0m \u001b[0mget_game_features\u001b[0m\u001b[1;33m(\u001b[0m\u001b[0mgame_id\u001b[0m\u001b[1;33m)\u001b[0m\u001b[1;33m\u001b[0m\u001b[1;33m\u001b[0m\u001b[0m\n\u001b[0m\u001b[0;32m    184\u001b[0m         \u001b[0mlh\u001b[0m\u001b[1;33m.\u001b[0m\u001b[0mprint_progress_bar\u001b[0m\u001b[1;33m(\u001b[0m\u001b[0mnum\u001b[0m \u001b[1;33m+\u001b[0m \u001b[1;36m1\u001b[0m\u001b[1;33m,\u001b[0m \u001b[0mnum_games\u001b[0m\u001b[1;33m,\u001b[0m \u001b[0mprefix\u001b[0m \u001b[1;33m=\u001b[0m \u001b[1;34m'Progress:'\u001b[0m\u001b[1;33m,\u001b[0m \u001b[0msuffix\u001b[0m \u001b[1;33m=\u001b[0m \u001b[1;34m'Complete'\u001b[0m\u001b[1;33m,\u001b[0m \u001b[0mlength\u001b[0m \u001b[1;33m=\u001b[0m \u001b[1;36m50\u001b[0m\u001b[1;33m)\u001b[0m           \u001b[1;31m# Initial call to print 0% progress\u001b[0m\u001b[1;33m\u001b[0m\u001b[1;33m\u001b[0m\u001b[0m\n\u001b[0;32m    185\u001b[0m     \u001b[1;32mreturn\u001b[0m \u001b[0mall_game_features\u001b[0m\u001b[1;33m\u001b[0m\u001b[1;33m\u001b[0m\u001b[0m\n",
      "\u001b[1;32m<ipython-input-32-344212d2f7c9>\u001b[0m in \u001b[0;36mget_game_features\u001b[1;34m(game_id)\u001b[0m\n\u001b[0;32m    160\u001b[0m \u001b[1;33m\u001b[0m\u001b[0m\n\u001b[0;32m    161\u001b[0m     \u001b[0mgame_features\u001b[0m \u001b[1;33m=\u001b[0m \u001b[1;33m[\u001b[0m\u001b[1;33m]\u001b[0m\u001b[1;33m\u001b[0m\u001b[1;33m\u001b[0m\u001b[0m\n\u001b[1;32m--> 162\u001b[1;33m     \u001b[0mvis_players\u001b[0m\u001b[1;33m,\u001b[0m \u001b[0mhome_players\u001b[0m \u001b[1;33m=\u001b[0m \u001b[0mget_players_in_game_vOne\u001b[0m\u001b[1;33m(\u001b[0m\u001b[0mgame_id\u001b[0m\u001b[1;33m)\u001b[0m\u001b[1;33m\u001b[0m\u001b[1;33m\u001b[0m\u001b[0m\n\u001b[0m\u001b[0;32m    163\u001b[0m     \u001b[0mgame_features\u001b[0m \u001b[1;33m+=\u001b[0m \u001b[0mget_pitchers_features\u001b[0m\u001b[1;33m(\u001b[0m\u001b[0mvis_players\u001b[0m\u001b[1;33m[\u001b[0m\u001b[1;36m0\u001b[0m\u001b[1;33m]\u001b[0m\u001b[1;33m,\u001b[0m \u001b[0mgame_id\u001b[0m\u001b[1;33m)\u001b[0m\u001b[1;33m\u001b[0m\u001b[1;33m\u001b[0m\u001b[0m\n\u001b[0;32m    164\u001b[0m     \u001b[1;32mfor\u001b[0m \u001b[0mplayer_id\u001b[0m \u001b[1;32min\u001b[0m \u001b[0mvis_players\u001b[0m\u001b[1;33m[\u001b[0m\u001b[1;36m1\u001b[0m\u001b[1;33m:\u001b[0m\u001b[1;33m]\u001b[0m\u001b[1;33m:\u001b[0m                                             \u001b[1;31m# Add all the visitor players to the feature sets.\u001b[0m\u001b[1;33m\u001b[0m\u001b[1;33m\u001b[0m\u001b[0m\n",
      "\u001b[1;32m<ipython-input-32-344212d2f7c9>\u001b[0m in \u001b[0;36mget_players_in_game_vOne\u001b[1;34m(game_id)\u001b[0m\n\u001b[0;32m     82\u001b[0m                                             \u001b[0minner\u001b[0m \u001b[0mjoin\u001b[0m \u001b[0mevent_shortstop\u001b[0m \u001b[0mon\u001b[0m \u001b[0mevent_shortstop\u001b[0m\u001b[1;33m.\u001b[0m\u001b[0midEvent\u001b[0m\u001b[1;33m=\u001b[0m\u001b[0mevent_instance\u001b[0m\u001b[1;33m.\u001b[0m\u001b[0midEvent\u001b[0m\u001b[1;33m\u001b[0m\u001b[1;33m\u001b[0m\u001b[0m\n\u001b[0;32m     83\u001b[0m                                             \u001b[0mwhere\u001b[0m \u001b[0mevent_instance\u001b[0m\u001b[1;33m.\u001b[0m\u001b[0mGame_ID\u001b[0m \u001b[1;33m=\u001b[0m \u001b[1;34m'{}'\u001b[0m \u001b[0morder\u001b[0m \u001b[0mby\u001b[0m \u001b[0mbatter_in_event\u001b[0m\u001b[1;33m.\u001b[0m\u001b[0mbatting_team\u001b[0m\u001b[1;33m,\u001b[0m \u001b[0mCHAR_LENGTH\u001b[0m\u001b[1;33m(\u001b[0m\u001b[0mevent_instance\u001b[0m\u001b[1;33m.\u001b[0m\u001b[0midEvent\u001b[0m\u001b[1;33m)\u001b[0m\u001b[1;33m,\u001b[0m \u001b[0mevent_instance\u001b[0m\u001b[1;33m.\u001b[0m\u001b[0midEvent\u001b[0m\u001b[1;33m;\u001b[0m\u001b[1;33m\u001b[0m\u001b[1;33m\u001b[0m\u001b[0m\n\u001b[1;32m---> 84\u001b[1;33m                                             \"\"\".format(game_id))\n\u001b[0m\u001b[0;32m     85\u001b[0m     \u001b[0mgame_vistors\u001b[0m \u001b[1;33m=\u001b[0m \u001b[0mgame_participants\u001b[0m\u001b[1;33m[\u001b[0m\u001b[1;36m0\u001b[0m\u001b[1;33m]\u001b[0m\u001b[1;33m[\u001b[0m\u001b[1;36m2\u001b[0m\u001b[1;33m:\u001b[0m\u001b[1;33m]\u001b[0m                             \u001b[1;31m# Given the query conditions, this will always provide the starting lineups.\u001b[0m\u001b[1;33m\u001b[0m\u001b[1;33m\u001b[0m\u001b[0m\n\u001b[0;32m     86\u001b[0m     \u001b[1;32mfor\u001b[0m \u001b[0mloc\u001b[0m\u001b[1;33m,\u001b[0m \u001b[0mpart\u001b[0m \u001b[1;32min\u001b[0m \u001b[0menumerate\u001b[0m\u001b[1;33m(\u001b[0m\u001b[0mgame_participants\u001b[0m\u001b[1;33m)\u001b[0m\u001b[1;33m:\u001b[0m\u001b[1;33m\u001b[0m\u001b[1;33m\u001b[0m\u001b[0m\n",
      "\u001b[1;32m<ipython-input-32-344212d2f7c9>\u001b[0m in \u001b[0;36mfetch_data\u001b[1;34m(query)\u001b[0m\n\u001b[0;32m     18\u001b[0m         \u001b[0mprint\u001b[0m\u001b[1;33m(\u001b[0m\u001b[1;34m\"The expections {}\"\u001b[0m\u001b[1;33m.\u001b[0m\u001b[0mformat\u001b[0m\u001b[1;33m(\u001b[0m\u001b[0mex\u001b[0m\u001b[1;33m)\u001b[0m\u001b[1;33m)\u001b[0m\u001b[1;33m\u001b[0m\u001b[1;33m\u001b[0m\u001b[0m\n\u001b[0;32m     19\u001b[0m         \u001b[0mprint\u001b[0m\u001b[1;33m(\u001b[0m\u001b[1;34m\"The query {}\"\u001b[0m\u001b[1;33m.\u001b[0m\u001b[0mformat\u001b[0m\u001b[1;33m(\u001b[0m\u001b[0mquery\u001b[0m\u001b[1;33m)\u001b[0m\u001b[1;33m)\u001b[0m\u001b[1;33m\u001b[0m\u001b[1;33m\u001b[0m\u001b[0m\n\u001b[1;32m---> 20\u001b[1;33m         \u001b[1;32mraise\u001b[0m \u001b[0mException\u001b[0m\u001b[1;33m(\u001b[0m\u001b[1;34m\"A fire is buring in fetch_data.\"\u001b[0m\u001b[1;33m)\u001b[0m\u001b[1;33m\u001b[0m\u001b[1;33m\u001b[0m\u001b[0m\n\u001b[0m\u001b[0;32m     21\u001b[0m \u001b[1;33m\u001b[0m\u001b[0m\n\u001b[0;32m     22\u001b[0m \u001b[1;32mdef\u001b[0m \u001b[0mget_game_outcomes\u001b[0m\u001b[1;33m(\u001b[0m\u001b[1;33m)\u001b[0m\u001b[1;33m:\u001b[0m\u001b[1;33m\u001b[0m\u001b[1;33m\u001b[0m\u001b[0m\n",
      "\u001b[1;31mException\u001b[0m: A fire is buring in fetch_data."
     ]
    }
   ],
   "source": [
    "# Get only the feature ids.\n",
    "features = get_all_game_features(game_ids[3000:3001])"
   ]
  },
  {
   "cell_type": "code",
   "execution_count": 19,
   "metadata": {},
   "outputs": [
    {
     "output_type": "execute_result",
     "data": {
      "text/plain": "54"
     },
     "metadata": {},
     "execution_count": 19
    }
   ],
   "source": [
    "len(features)"
   ]
  },
  {
   "cell_type": "code",
   "execution_count": null,
   "metadata": {},
   "outputs": [],
   "source": []
  }
 ],
 "metadata": {
  "language_info": {
   "codemirror_mode": {
    "name": "ipython",
    "version": 3
   },
   "file_extension": ".py",
   "mimetype": "text/x-python",
   "name": "python",
   "nbconvert_exporter": "python",
   "pygments_lexer": "ipython3",
   "version": "3.7.1-final"
  },
  "orig_nbformat": 2,
  "kernelspec": {
   "name": "python37164bite7ff45ce47a142899b62dd87dcc08a30",
   "display_name": "Python 3.7.1 64-bit"
  }
 },
 "nbformat": 4,
 "nbformat_minor": 2
}