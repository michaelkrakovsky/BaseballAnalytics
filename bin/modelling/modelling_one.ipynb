{
 "cells": [
  {
   "cell_type": "code",
   "execution_count": 1,
   "metadata": {},
   "outputs": [],
   "source": [
    "# The intent of the notebook is to begin modelling the baseball data. This will likely not be the final model, \n",
    "#     however, it will act as a building block to more advanced models.\n",
    "# Version: 1.0"
   ]
  },
  {
   "cell_type": "code",
   "execution_count": 23,
   "metadata": {},
   "outputs": [],
   "source": [
    "import import_ipynb\n",
    "from sklearn import svm\n",
    "from pymysql import connect\n",
    "from pathlib import Path\n",
    "path.append('../../../') \n",
    "from BaseballAnalytics.bin.app_utils.queries import Queries\n",
    "import numpy"
   ]
  },
  {
   "cell_type": "code",
   "execution_count": 19,
   "metadata": {},
   "outputs": [],
   "source": [
    "# Connect to the database.\n",
    "conn = connect(host=\"localhost\", user=\"root\", passwd=\"praquplDop#odlg73h?c\", db=\"baseball_stats_db\")\n",
    "qu = Queries(conn)"
   ]
  },
  {
   "cell_type": "code",
   "execution_count": 24,
   "metadata": {},
   "outputs": [
    {
     "output_type": "execute_result",
     "data": {
      "text/plain": "(('TEX199004090', 1990, 9, 4),\n ('SLN199004090', 1990, 9, 4),\n ('OAK199004090', 1990, 9, 4),\n ('CAL199004090', 1990, 9, 4),\n ('CHA199004090', 1990, 9, 4))"
     },
     "metadata": {},
     "execution_count": 24
    }
   ],
   "source": [
    "# Get all the game ids. The information is returned as the Game Id, Year, Date, an Month.\n",
    "all_game_ids = qu.get_all_game_ids()         \n",
    "all_game_ids[0:5]"
   ]
  },
  {
   "cell_type": "code",
   "execution_count": null,
   "metadata": {},
   "outputs": [],
   "source": []
  },
  {
   "cell_type": "code",
   "execution_count": 7,
   "metadata": {},
   "outputs": [
    {
     "output_type": "error",
     "ename": "NameError",
     "evalue": "name 'game_id' is not defined",
     "traceback": [
      "\u001b[1;31m---------------------------------------------------------------------------\u001b[0m",
      "\u001b[1;31mNameError\u001b[0m                                 Traceback (most recent call last)",
      "\u001b[1;32m<ipython-input-7-3ced3dc96e38>\u001b[0m in \u001b[0;36m<module>\u001b[1;34m\u001b[0m\n\u001b[0;32m     17\u001b[0m     \u001b[0minner\u001b[0m \u001b[0mjoin\u001b[0m \u001b[0mevent_shortstop\u001b[0m \u001b[0mon\u001b[0m \u001b[0mevent_shortstop\u001b[0m\u001b[1;33m.\u001b[0m\u001b[0midEvent\u001b[0m\u001b[1;33m=\u001b[0m\u001b[0mevent_instance\u001b[0m\u001b[1;33m.\u001b[0m\u001b[0midEvent\u001b[0m\u001b[1;33m\u001b[0m\u001b[1;33m\u001b[0m\u001b[0m\n\u001b[0;32m     18\u001b[0m     \u001b[0mwhere\u001b[0m \u001b[0mevent_instance\u001b[0m\u001b[1;33m.\u001b[0m\u001b[0mGame_ID\u001b[0m \u001b[1;33m=\u001b[0m \u001b[1;34m'{}'\u001b[0m \u001b[0morder\u001b[0m \u001b[0mby\u001b[0m \u001b[0mbatter_in_event\u001b[0m\u001b[1;33m.\u001b[0m\u001b[0mbatting_team\u001b[0m\u001b[1;33m,\u001b[0m \u001b[0mCHAR_LENGTH\u001b[0m\u001b[1;33m(\u001b[0m\u001b[0mevent_instance\u001b[0m\u001b[1;33m.\u001b[0m\u001b[0midEvent\u001b[0m\u001b[1;33m)\u001b[0m\u001b[1;33m,\u001b[0m \u001b[0mevent_instance\u001b[0m\u001b[1;33m.\u001b[0m\u001b[0midEvent\u001b[0m\u001b[1;33m;\u001b[0m\u001b[1;33m\u001b[0m\u001b[1;33m\u001b[0m\u001b[0m\n\u001b[1;32m---> 19\u001b[1;33m     \"\"\".format(game_id)\n\u001b[0m",
      "\u001b[1;31mNameError\u001b[0m: name 'game_id' is not defined"
     ]
    }
   ],
   "source": [
    "players_in_game = \"\"\"\n",
    "select Distinct game_day.Game_ID, batter_in_event.Batting_Team, pitcher_in_event.Pitcher_Name,       # Home Team equals One for Batting Team\n",
    "event_catcher.Catcher, event_centre_field.Center_Field, event_left_field.Left_Field,\n",
    "event_right_field.Right_Field, event_first_base.First_Base, event_second_base.Second_Base, \n",
    "event_third_base.Third_Base, event_shortstop.Shortstop\n",
    "    from game_day\n",
    "\tinner join event_instance on game_day.Game_ID=event_instance.Game_ID\n",
    "\tinner join batter_in_event on event_instance.idEvent=batter_in_event.idEvent\n",
    "    inner join pitcher_in_event on pitcher_in_event.idEvent=event_instance.idEvent\n",
    "    inner join event_catcher on event_catcher.idEvent=event_instance.idEvent\n",
    "    inner join event_centre_field on event_centre_field.idEvent=event_instance.idEvent\n",
    "    inner join event_left_field on event_left_field.idEvent=event_instance.idEvent\n",
    "    inner join event_right_field on event_right_field.idEvent=event_instance.idEvent\n",
    "    inner join event_first_base on event_first_base.idEvent=event_instance.idEvent\n",
    "    inner join event_second_base on event_second_base.idEvent=event_instance.idEvent\n",
    "    inner join event_third_base on event_third_base.idEvent=event_instance.idEvent\n",
    "    inner join event_shortstop on event_shortstop.idEvent=event_instance.idEvent\n",
    "    where event_instance.Game_ID = '{}' order by batter_in_event.batting_team, CHAR_LENGTH(event_instance.idEvent), event_instance.idEvent;\n",
    "    \"\"\".format(game_id)"
   ]
  },
  {
   "cell_type": "code",
   "execution_count": null,
   "metadata": {},
   "outputs": [],
   "source": []
  }
 ],
 "metadata": {
  "language_info": {
   "codemirror_mode": {
    "name": "ipython",
    "version": 3
   },
   "file_extension": ".py",
   "mimetype": "text/x-python",
   "name": "python",
   "nbconvert_exporter": "python",
   "pygments_lexer": "ipython3",
   "version": "3.7.1-final"
  },
  "orig_nbformat": 2,
  "kernelspec": {
   "name": "python37164bite7ff45ce47a142899b62dd87dcc08a30",
   "display_name": "Python 3.7.1 64-bit"
  }
 },
 "nbformat": 4,
 "nbformat_minor": 2
}