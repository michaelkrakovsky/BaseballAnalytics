{
 "cells": [
  {
   "cell_type": "code",
   "execution_count": 1,
   "metadata": {},
   "outputs": [],
   "source": [
    "# The intent of the notebook is to begin modelling the baseball data. This will likely not be the final model, \n",
    "#     however,z it will act as a building block to more advanced models.\n",
    "# Version: 1.0"
   ]
  },
  {
   "cell_type": "code",
   "execution_count": 25,
   "metadata": {},
   "outputs": [],
   "source": [
    "import import_ipynb\n",
    "from sklearn import svm\n",
    "from pymysql import connect\n",
    "from sys import path\n",
    "from pathlib import Path\n",
    "path.append('../../../') \n",
    "from BaseballAnalytics.bin.app_utils.queries import Queries\n",
    "from BaseballAnalytics.bin.app_utils.common_help import Log_Helper\n",
    "from pickle import dump, load"
   ]
  },
  {
   "cell_type": "code",
   "execution_count": 3,
   "metadata": {},
   "outputs": [],
   "source": [
    "# Connect to the database.\n",
    "conn = connect(host=\"localhost\", user=\"root\", passwd=\"praquplDop#odlg73h?c\", db=\"baseball_stats_db\")\n",
    "qu = Queries(conn)"
   ]
  },
  {
   "cell_type": "code",
   "execution_count": 4,
   "metadata": {},
   "outputs": [
    {
     "output_type": "execute_result",
     "data": {
      "text/plain": "(('BOS199004090', 1990, 9, 4, 5, 2, 'BOS', 'DET', 0),\n ('CAL199004090', 1990, 9, 4, 4, 7, 'CAL', 'SEA', 1),\n ('CHA199004090', 1990, 9, 4, 2, 1, 'CHA', 'MIL', 0),\n ('HOU199004090', 1990, 9, 4, 4, 8, 'HOU', 'CIN', 1),\n ('KCA199004090', 1990, 9, 4, 6, 7, 'KCA', 'BAL', 1))"
     },
     "metadata": {},
     "execution_count": 4
    }
   ],
   "source": [
    "# Get all the game ids. The information is returned as \n",
    "#    (Game_ID, year, day, month, Home_Score, Vis_Score, Home_Team, Visitng_Team, Home_Win) where a winning home team is flagged at 0.\n",
    "game_outcomes = qu.get_game_outcomes()         \n",
    "game_outcomes[0:5]"
   ]
  },
  {
   "cell_type": "code",
   "execution_count": 5,
   "metadata": {},
   "outputs": [
    {
     "output_type": "execute_result",
     "data": {
      "text/plain": "[('ATL199004150', 1990, 15, 4, 6, 13, 'ATL', 'CIN', 1),\n ('CAL199004150', 1990, 15, 4, 4, 1, 'CAL', 'MIN', 0),\n ('CHA199004150', 1990, 15, 4, 4, 1, 'CHA', 'CLE', 0),\n ('DET199004150', 1990, 15, 4, 6, 4, 'DET', 'BAL', 0),\n ('HOU199004150', 1990, 15, 4, 4, 5, 'HOU', 'LAN', 1),\n ('KCA199004150', 1990, 15, 4, 4, 5, 'KCA', 'TOR', 1),\n ('MON199004150', 1990, 15, 4, 3, 1, 'MON', 'NYN', 0),\n ('NYA199004150', 1990, 15, 4, 3, 1, 'NYA', 'TEX', 0),\n ('PHI199004150', 1990, 15, 4, 4, 0, 'PHI', 'SLN', 0),\n ('PIT199004150', 1990, 15, 4, 3, 3, 'PIT', 'CHN', 0)]"
     },
     "metadata": {},
     "execution_count": 5
    }
   ],
   "source": [
    "# Filter the games past May 15 (Approximentally one week) to acquire some data.\n",
    "game_outcomes_cpy = list(game_outcomes)\n",
    "filter_games = []\n",
    "for game in game_outcomes_cpy:\n",
    "    if (game[2] < 15 and game[3] < 5):        # Remove all games prior to April 15.\n",
    "        pass\n",
    "    else:\n",
    "        filter_games.append(game)\n",
    "game_outcomes_cpy = None                      # Send the data to the ether to reserve space.\n",
    "filter_games[0:10]"
   ]
  },
  {
   "cell_type": "code",
   "execution_count": 6,
   "metadata": {},
   "outputs": [
    {
     "output_type": "stream",
     "name": "stdout",
     "text": "The number of game ids: 65734\n"
    },
    {
     "output_type": "execute_result",
     "data": {
      "text/plain": "['LAN199005020',\n 'MON199005020',\n 'NYA199005020',\n 'NYN199005020',\n 'PHI199005020']"
     },
     "metadata": {},
     "execution_count": 6
    }
   ],
   "source": [
    "# Retrieve only the game ids.\n",
    "game_ids = [game_id[0] for game_id in filter_games]\n",
    "game_ids = game_ids[200:]                                   # Cut off the first 200 games.\n",
    "print(\"The number of game ids: {}\".format(len(game_ids)))\n",
    "game_ids[0:5]"
   ]
  },
  {
   "cell_type": "code",
   "execution_count": 7,
   "metadata": {},
   "outputs": [],
   "source": [
    "# Fetch the players and pitchers from the game.\n",
    "data_locs = Path(r'C:\\Users\\micha\\Documents\\Baseball_Analytics_Source_Data\\model_v1')\n",
    "pitchers_pickle = 'game_pitchers.pickle'\n",
    "batters_pickle = 'game_players.pickle'\n",
    "offensive_feat_pickle = 'raw_offensive_features.pickle'\n",
    "offensive_features = qu.get_all_offensive_features(data_locs / offensive_feat_pickle)\n",
    "all_pitcher = qu.get_pitchers_in_all_games_vOne(data_locs / pitchers_pickle)\n",
    "all_batters = qu.get_batters_in_all_games_vOne(data_locs / batters_pickle)"
   ]
  },
  {
   "cell_type": "code",
   "execution_count": 8,
   "metadata": {},
   "outputs": [
    {
     "output_type": "stream",
     "name": "stdout",
     "text": "1.0.0039322999999740205\n2.0.005399899999986246\n3.1.9199044999999728\n4.2.3726151000000186\n5.2.3736101000000076\n6.2.3741196999999943\n7.2.436787700000025\n8.3.243981099999985\n1.0.0004749000000288106\n2.0.0012790000000109103\n3.0.053573900000003505\n4.1.195400100000029\n5.1.196592800000019\n6.1.1970607000000086\n7.1.2098063000000252\n8.1.7141745000000128\n1.0.0007506999999691288\n2.0.0009799999999700049\n3.0.04176749999999174\n4.0.47547969999999395\n5.0.47633309999997664\n6.0.4765279999999734\n7.0.5199929999999995\n8.1.5305667999999741\n1.0.00035309999998389685\n2.0.0005570999999804371\n3.0.04399919999997337\n4.0.4316054999999892\n5.0.4321999000000005\n6.0.4323684999999955\n7.0.4645253999999568\n8.1.594618999999966\n1.0.00039930000002641464\n2.0.001042799999993349\n3.0.17026420000001963\n4.0.7170691000000033\n5.0.7181299999999737\n6.0.7186872999999991\n7.0.7464216000000192\n8.1.9688436999999794\n1.0.0016825999999809937\n2.0.002727499999991778\n3.0.046752299999980096\n4.1.580089600000008\n5.1.5807098000000224\n6.1.580889099999979\n7.1.678915800000027\n8.3.0095479000000296\n1.0.0014711000000033891\n2.0.0024672999999779677\n3.0.023054599999966285\n4.1.063981799999965\n5.1.0649241999999504\n6.1.0654437999999686\n7.1.113264299999969\n8.2.077611099999956\n1.0.0010538000000224201\n2.0.0017005999999923915\n3.0.065127700000005\n4.0.5202858000000106\n5.0.5215147000000115\n6.0.5223475999999891\n7.0.551072099999999\n8.0.9378111999999987\n1.0.0006571000000121785\n2.0.000975800000048821\n3.0.04946970000003148\n4.0.9099173000000178\n5.0.9106279000000086\n6.0.9108224000000291\n7.1.0740459000000442\n8.2.3593162000000234\n1.0.00045679999999492793\n2.0.0012523000000328466\n3.0.050905699999987064\n4.1.3700628999999935\n5.1.371006599999987\n6.1.3713678999999956\n7.1.6066079000000286\n8.1.9916479000000322\n1.0.0006302000000459884\n2.0.0008698000000322281\n3.0.06924490000000105\n4.0.4854999000000362\n5.0.48638710000000174\n6.0.486720000000048\n7.0.5233653000000231\n8.1.509893800000043\n1.0.004758200000026136\n2.0.0052688000000102875\n3.0.05050920000002179\n4.0.6214113999999995\n5.0.6222472000000039\n6.0.6227218999999877\n7.0.6849434000000088\n8.1.3835923999999977\n1.0.00023000000004458343\n2.0.006418300000007093\n3.0.22002180000004046\n4.0.8233548000000042\n5.0.8238263000000074\n6.0.8242207000000121\n7.0.8699349000000325\n8.1.6953142000000412\n1.0.0008353999999712869\n2.0.001111399999956575\n3.0.03981589999995094\n4.1.0034301000000028\n5.1.0037801999999942\n6.1.0039736999999604\n7.1.1054792999999563\n8.2.061748399999999\n1.0.000876000000005206\n2.0.015609699999970417\n3.0.09422639999996818\n4.1.3312945999999783\n5.1.3333175999999867\n6.1.3335111999999754\n7.1.3503862000000026\n8.1.9867115000000126\n1.0.001285999999993237\n2.0.0019513000000301872\n3.0.2021669000000088\n4.0.8325328999999897\n5.0.8329325000000267\n6.0.8331688000000099\n7.0.8403862000000117\n8.2.1495464999999854\n1.0.00027210000001787193\n2.0.0006705999999780943\n3.0.07560849999998709\n4.1.3322362999999768\n5.1.333004399999993\n6.1.3334633000000053\n7.1.3458191000000284\n8.2.041823000000022\n1.0.0004341000000067652\n2.0.001860800000031304\n3.0.07336739999999509\n4.1.1953510000000165\n5.1.1971967000000063\n6.1.197788800000012\n7.1.2007942000000185\n8.1.8138875000000212\n1.0.00027210000001787193\n2.0.04014369999998735\n3.0.05955990000001066\n4.0.552036199999975\n5.0.5523736999999755\n6.0.5526042999999845\n7.0.6248992000000158\n8.1.133949599999994\n1.0.0002810999999951491\n2.0.006831099999999424\n3.0.015342800000041734\n4.0.8399578000000361\n5.0.840671900000018\n6.0.8410877000000028\n7.0.9200053000000139\n8.1.9745828000000074\n1.0.0005229000000213091\n2.0.026079500000037115\n3.0.04033470000001671\n4.0.8165728000000172\n5.0.81797210000002\n6.0.8193065000000388\n7.0.8423435999999924\n8.1.7581974000000287\nProgress: |--------------------------------------------------| 0.0% Complete"
    }
   ],
   "source": [
    "# Gather all the features from every game.\n",
    "features_pickle = 'game_features.pickle'\n",
    "lh = Log_Helper()\n",
    "all_features = {}\n",
    "num_games = len(game_ids)\n",
    "lh.print_progress_bar(0, num_games, prefix = 'Progress:', suffix = 'Complete', length = 50)    # Initial call to print 0% progress\n",
    "counter = 0\n",
    "for num, game_id in enumerate(game_ids):\n",
    "    all_features[game_id] = qu.get_game_features(all_batters, all_pitcher, offensive_features, game_id)\n",
    "    lh.print_progress_bar(num + 1, num_games, prefix = 'Progress:', suffix = 'Complete', length = 50)\n",
    "    counter += 1\n",
    "    if counter > 20:\n",
    "        break     \n",
    "with open(data_locs / features_pickle, 'wb') as f:\n",
    "    dump(all_features, f)"
   ]
  },
  {
   "cell_type": "code",
   "execution_count": 36,
   "metadata": {},
   "outputs": [],
   "source": []
  }
 ],
 "metadata": {
  "kernelspec": {
   "display_name": "Python 3.7.1 64-bit",
   "language": "python",
   "name": "python37164bite7ff45ce47a142899b62dd87dcc08a30"
  },
  "language_info": {
   "codemirror_mode": {
    "name": "ipython",
    "version": 3
   },
   "file_extension": ".py",
   "mimetype": "text/x-python",
   "name": "python",
   "nbconvert_exporter": "python",
   "pygments_lexer": "ipython3",
   "version": "3.7.1-final"
  }
 },
 "nbformat": 4,
 "nbformat_minor": 4
}