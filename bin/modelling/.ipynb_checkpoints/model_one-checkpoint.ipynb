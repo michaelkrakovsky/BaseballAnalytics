{
 "cells": [
  {
   "cell_type": "code",
   "execution_count": 1,
   "metadata": {},
   "outputs": [],
   "source": [
    "# The intent of the notebook is to begin modelling the baseball data. This will likely not be the final model, \n",
    "#     however,z it will act as a building block to more advanced models.\n",
    "# Version: 1.0"
   ]
  },
  {
   "cell_type": "code",
   "execution_count": 2,
   "metadata": {},
   "outputs": [],
   "source": [
    "import import_ipynb\n",
    "from sklearn import svm\n",
    "from pymysql import connect\n",
    "from sys import path\n",
    "path.append('../../../') \n",
    "from BaseballAnalytics.bin.app_utils.queries import Queries\n",
    "import numpy"
   ]
  },
  {
   "cell_type": "code",
   "execution_count": 3,
   "metadata": {},
   "outputs": [],
   "source": [
    "# Connect to the database.\n",
    "conn = connect(host=\"localhost\", user=\"root\", passwd=\"praquplDop#odlg73h?c\", db=\"baseball_stats_db\")\n",
    "qu = Queries(conn)"
   ]
  },
  {
   "cell_type": "code",
   "execution_count": 4,
   "metadata": {},
   "outputs": [
    {
     "data": {
      "text/plain": [
       "(('BOS199004090', 1990, 9, 4, 5, 2, 'BOS', 'DET', 0),\n",
       " ('CAL199004090', 1990, 9, 4, 4, 7, 'CAL', 'SEA', 1),\n",
       " ('CHA199004090', 1990, 9, 4, 2, 1, 'CHA', 'MIL', 0),\n",
       " ('HOU199004090', 1990, 9, 4, 4, 8, 'HOU', 'CIN', 1),\n",
       " ('KCA199004090', 1990, 9, 4, 6, 7, 'KCA', 'BAL', 1))"
      ]
     },
     "execution_count": 4,
     "metadata": {},
     "output_type": "execute_result"
    }
   ],
   "source": [
    "# Get all the game ids. The information is returned as \n",
    "#    (Game_ID, year, day, month, Home_Score, Vis_Score, Home_Team, Visitng_Team, Home_Win) where a winning home team is flagged at 0.\n",
    "game_outcomes = qu.get_game_outcomes()         \n",
    "game_outcomes[0:5]"
   ]
  },
  {
   "cell_type": "code",
   "execution_count": 5,
   "metadata": {},
   "outputs": [
    {
     "data": {
      "text/plain": [
       "[0, 1, 0, 1, 1]"
      ]
     },
     "execution_count": 5,
     "metadata": {},
     "output_type": "execute_result"
    }
   ],
   "source": [
    "# Acquire only the outcomes.\n",
    "game_only_outcomes = qu.get_only_outcomes()\n",
    "game_only_outcomes[0:5]"
   ]
  },
  {
   "cell_type": "code",
   "execution_count": 5,
   "metadata": {},
   "outputs": [
    {
     "name": "stdout",
     "output_type": "stream",
     "text": [
      "The number of game ids: 70101\n"
     ]
    },
    {
     "data": {
      "text/plain": [
       "['BOS199004090',\n",
       " 'CAL199004090',\n",
       " 'CHA199004090',\n",
       " 'HOU199004090',\n",
       " 'KCA199004090']"
      ]
     },
     "execution_count": 5,
     "metadata": {},
     "output_type": "execute_result"
    }
   ],
   "source": [
    "# Retrieve only the game ids.\n",
    "game_ids = [game_id[0] for game_id in game_outcomes]\n",
    "print(\"The number of game ids: {}\".format(len(game_ids)))\n",
    "game_ids[0:5]"
   ]
  },
  {
   "cell_type": "code",
   "execution_count": 7,
   "metadata": {},
   "outputs": [
    {
     "name": "stderr",
     "output_type": "stream",
     "text": [
      "C:\\Users\\micha\\AppData\\Local\\Programs\\Python\\Python37\\lib\\importlib\\_bootstrap.py:219: RuntimeWarning: numpy.ufunc size changed, may indicate binary incompatibility. Expected 192 from C header, got 216 from PyObject\n",
      "  return f(*args, **kwds)\n",
      "C:\\Users\\micha\\AppData\\Local\\Programs\\Python\\Python37\\lib\\importlib\\_bootstrap.py:219: RuntimeWarning: numpy.ufunc size changed, may indicate binary incompatibility. Expected 192 from C header, got 216 from PyObject\n",
      "  return f(*args, **kwds)\n",
      "C:\\Users\\micha\\AppData\\Local\\Programs\\Python\\Python37\\lib\\importlib\\_bootstrap.py:219: RuntimeWarning: numpy.ufunc size changed, may indicate binary incompatibility. Expected 192 from C header, got 216 from PyObject\n",
      "  return f(*args, **kwds)\n",
      "C:\\Users\\micha\\AppData\\Local\\Programs\\Python\\Python37\\lib\\importlib\\_bootstrap.py:219: RuntimeWarning: numpy.ufunc size changed, may indicate binary incompatibility. Expected 192 from C header, got 216 from PyObject\n",
      "  return f(*args, **kwds)\n",
      "C:\\Users\\micha\\AppData\\Local\\Programs\\Python\\Python37\\lib\\importlib\\_bootstrap.py:219: RuntimeWarning: numpy.ufunc size changed, may indicate binary incompatibility. Expected 192 from C header, got 216 from PyObject\n",
      "  return f(*args, **kwds)\n",
      "C:\\Users\\micha\\AppData\\Local\\Programs\\Python\\Python37\\lib\\importlib\\_bootstrap.py:219: RuntimeWarning: numpy.ufunc size changed, may indicate binary incompatibility. Expected 192 from C header, got 216 from PyObject\n",
      "  return f(*args, **kwds)\n",
      "C:\\Users\\micha\\AppData\\Local\\Programs\\Python\\Python37\\lib\\importlib\\_bootstrap.py:219: RuntimeWarning: numpy.ufunc size changed, may indicate binary incompatibility. Expected 192 from C header, got 216 from PyObject\n",
      "  return f(*args, **kwds)\n",
      "C:\\Users\\micha\\AppData\\Local\\Programs\\Python\\Python37\\lib\\importlib\\_bootstrap.py:219: RuntimeWarning: numpy.ufunc size changed, may indicate binary incompatibility. Expected 192 from C header, got 216 from PyObject\n",
      "  return f(*args, **kwds)\n",
      "C:\\Users\\micha\\AppData\\Local\\Programs\\Python\\Python37\\lib\\importlib\\_bootstrap.py:219: RuntimeWarning: numpy.ufunc size changed, may indicate binary incompatibility. Expected 192 from C header, got 216 from PyObject\n",
      "  return f(*args, **kwds)\n",
      "C:\\Users\\micha\\AppData\\Local\\Programs\\Python\\Python37\\lib\\importlib\\_bootstrap.py:219: RuntimeWarning: numpy.ufunc size changed, may indicate binary incompatibility. Expected 192 from C header, got 216 from PyObject\n",
      "  return f(*args, **kwds)\n",
      "C:\\Users\\micha\\AppData\\Local\\Programs\\Python\\Python37\\lib\\importlib\\_bootstrap.py:219: RuntimeWarning: numpy.ufunc size changed, may indicate binary incompatibility. Expected 192 from C header, got 216 from PyObject\n",
      "  return f(*args, **kwds)\n",
      "C:\\Users\\micha\\AppData\\Local\\Programs\\Python\\Python37\\lib\\importlib\\_bootstrap.py:219: RuntimeWarning: numpy.ufunc size changed, may indicate binary incompatibility. Expected 192 from C header, got 216 from PyObject\n",
      "  return f(*args, **kwds)\n",
      "C:\\Users\\micha\\AppData\\Local\\Programs\\Python\\Python37\\lib\\importlib\\_bootstrap.py:219: RuntimeWarning: numpy.ufunc size changed, may indicate binary incompatibility. Expected 192 from C header, got 216 from PyObject\n",
      "  return f(*args, **kwds)\n",
      "C:\\Users\\micha\\AppData\\Local\\Programs\\Python\\Python37\\lib\\importlib\\_bootstrap.py:219: RuntimeWarning: numpy.ufunc size changed, may indicate binary incompatibility. Expected 192 from C header, got 216 from PyObject\n",
      "  return f(*args, **kwds)\n",
      "C:\\Users\\micha\\AppData\\Local\\Programs\\Python\\Python37\\lib\\importlib\\_bootstrap.py:219: RuntimeWarning: numpy.ufunc size changed, may indicate binary incompatibility. Expected 192 from C header, got 216 from PyObject\n",
      "  return f(*args, **kwds)\n",
      "C:\\Users\\micha\\AppData\\Local\\Programs\\Python\\Python37\\lib\\importlib\\_bootstrap.py:219: RuntimeWarning: numpy.ufunc size changed, may indicate binary incompatibility. Expected 192 from C header, got 216 from PyObject\n",
      "  return f(*args, **kwds)\n",
      "C:\\Users\\micha\\AppData\\Local\\Programs\\Python\\Python37\\lib\\importlib\\_bootstrap.py:219: RuntimeWarning: numpy.ufunc size changed, may indicate binary incompatibility. Expected 192 from C header, got 216 from PyObject\n",
      "  return f(*args, **kwds)\n",
      "C:\\Users\\micha\\AppData\\Local\\Programs\\Python\\Python37\\lib\\importlib\\_bootstrap.py:219: RuntimeWarning: numpy.ufunc size changed, may indicate binary incompatibility. Expected 192 from C header, got 216 from PyObject\n",
      "  return f(*args, **kwds)\n",
      "C:\\Users\\micha\\AppData\\Local\\Programs\\Python\\Python37\\lib\\importlib\\_bootstrap.py:219: RuntimeWarning: numpy.ufunc size changed, may indicate binary incompatibility. Expected 192 from C header, got 216 from PyObject\n",
      "  return f(*args, **kwds)\n",
      "C:\\Users\\micha\\AppData\\Local\\Programs\\Python\\Python37\\lib\\importlib\\_bootstrap.py:219: RuntimeWarning: numpy.ufunc size changed, may indicate binary incompatibility. Expected 192 from C header, got 216 from PyObject\n",
      "  return f(*args, **kwds)\n",
      "C:\\Users\\micha\\AppData\\Local\\Programs\\Python\\Python37\\lib\\importlib\\_bootstrap.py:219: RuntimeWarning: numpy.ufunc size changed, may indicate binary incompatibility. Expected 192 from C header, got 216 from PyObject\n",
      "  return f(*args, **kwds)\n",
      "C:\\Users\\micha\\AppData\\Local\\Programs\\Python\\Python37\\lib\\importlib\\_bootstrap.py:219: RuntimeWarning: numpy.ufunc size changed, may indicate binary incompatibility. Expected 192 from C header, got 216 from PyObject\n",
      "  return f(*args, **kwds)\n",
      "C:\\Users\\micha\\AppData\\Local\\Programs\\Python\\Python37\\lib\\importlib\\_bootstrap.py:219: RuntimeWarning: numpy.ufunc size changed, may indicate binary incompatibility. Expected 192 from C header, got 216 from PyObject\n",
      "  return f(*args, **kwds)\n",
      "C:\\Users\\micha\\AppData\\Local\\Programs\\Python\\Python37\\lib\\importlib\\_bootstrap.py:219: RuntimeWarning: numpy.ufunc size changed, may indicate binary incompatibility. Expected 192 from C header, got 216 from PyObject\n",
      "  return f(*args, **kwds)\n",
      "C:\\Users\\micha\\AppData\\Local\\Programs\\Python\\Python37\\lib\\importlib\\_bootstrap.py:219: RuntimeWarning: numpy.ufunc size changed, may indicate binary incompatibility. Expected 192 from C header, got 216 from PyObject\n",
      "  return f(*args, **kwds)\n",
      "C:\\Users\\micha\\AppData\\Local\\Programs\\Python\\Python37\\lib\\importlib\\_bootstrap.py:219: RuntimeWarning: numpy.ufunc size changed, may indicate binary incompatibility. Expected 192 from C header, got 216 from PyObject\n",
      "  return f(*args, **kwds)\n",
      "C:\\Users\\micha\\AppData\\Local\\Programs\\Python\\Python37\\lib\\importlib\\_bootstrap.py:219: RuntimeWarning: numpy.ufunc size changed, may indicate binary incompatibility. Expected 192 from C header, got 216 from PyObject\n",
      "  return f(*args, **kwds)\n",
      "C:\\Users\\micha\\AppData\\Local\\Programs\\Python\\Python37\\lib\\importlib\\_bootstrap.py:219: RuntimeWarning: numpy.ufunc size changed, may indicate binary incompatibility. Expected 192 from C header, got 216 from PyObject\n",
      "  return f(*args, **kwds)\n",
      "C:\\Users\\micha\\AppData\\Local\\Programs\\Python\\Python37\\lib\\importlib\\_bootstrap.py:219: RuntimeWarning: numpy.ufunc size changed, may indicate binary incompatibility. Expected 192 from C header, got 216 from PyObject\n",
      "  return f(*args, **kwds)\n",
      "C:\\Users\\micha\\AppData\\Local\\Programs\\Python\\Python37\\lib\\importlib\\_bootstrap.py:219: RuntimeWarning: numpy.ufunc size changed, may indicate binary incompatibility. Expected 192 from C header, got 216 from PyObject\n",
      "  return f(*args, **kwds)\n",
      "C:\\Users\\micha\\AppData\\Local\\Programs\\Python\\Python37\\lib\\importlib\\_bootstrap.py:219: RuntimeWarning: numpy.ufunc size changed, may indicate binary incompatibility. Expected 192 from C header, got 216 from PyObject\n",
      "  return f(*args, **kwds)\n",
      "C:\\Users\\micha\\AppData\\Local\\Programs\\Python\\Python37\\lib\\importlib\\_bootstrap.py:219: RuntimeWarning: numpy.ufunc size changed, may indicate binary incompatibility. Expected 192 from C header, got 216 from PyObject\n",
      "  return f(*args, **kwds)\n",
      "C:\\Users\\micha\\AppData\\Local\\Programs\\Python\\Python37\\lib\\importlib\\_bootstrap.py:219: RuntimeWarning: numpy.ufunc size changed, may indicate binary incompatibility. Expected 192 from C header, got 216 from PyObject\n",
      "  return f(*args, **kwds)\n",
      "C:\\Users\\micha\\AppData\\Local\\Programs\\Python\\Python37\\lib\\importlib\\_bootstrap.py:219: RuntimeWarning: numpy.ufunc size changed, may indicate binary incompatibility. Expected 192 from C header, got 216 from PyObject\n",
      "  return f(*args, **kwds)\n",
      "C:\\Users\\micha\\AppData\\Local\\Programs\\Python\\Python37\\lib\\importlib\\_bootstrap.py:219: RuntimeWarning: numpy.ufunc size changed, may indicate binary incompatibility. Expected 192 from C header, got 216 from PyObject\n",
      "  return f(*args, **kwds)\n"
     ]
    }
   ],
   "source": [
    "from warnings import filterwarnings\n",
    "from BaseballAnalytics.bin.app_utils.common_help import Log_Helper\n",
    "import pandas as pd\n",
    "import pickle \n",
    "    \n",
    "def fetch_data(query):\n",
    "\n",
    "    # Function Description: Retrieve all the data given a particular query.\n",
    "    # Function Parameters: query (The query to execute in the database.)\n",
    "    # Function Throws: Nothing\n",
    "    # Function Returns: The contents from the query.\n",
    "    \n",
    "    filterwarnings('error')    \n",
    "    try:\n",
    "        with conn.cursor() as c:\n",
    "            c.execute(query)\n",
    "            filterwarnings('always')\n",
    "            return c.fetchall()\n",
    "    except Exception as ex:\n",
    "        print(\"The expections {}\".format(ex))\n",
    "        print(\"The query {}\".format(query))\n",
    "        raise Exception(\"A fire is buring in fetch_data.\")\n",
    "\n",
    "def convert_query_to_dict(data):\n",
    "    \n",
    "    # Function Description: Convert the data from a query into a dictionay to be indexed.\n",
    "    #    The game id MUST BE the first value in the column.\n",
    "    # Function Parameters: data (The data that was extractred from the query.)\n",
    "    # Function Throws: Nothing\n",
    "    # Function Returns: The dictionary containing a list of events associated with the Game Id\n",
    "    \n",
    "    query_dict = {}\n",
    "    for row in data:\n",
    "        if row[game_id_idx] not in query_dict:\n",
    "            query_dict[row[0]] = [list(row[1:])]\n",
    "        else:\n",
    "            game_list = query_dict[row[0]]\n",
    "            game_list.append(list(row[1:]))\n",
    "    return query_dict\n",
    "        \n",
    "def get_players_in_game_vOne(game_id, prev_query=None):\n",
    "\n",
    "    # Function Description: The function returns only the players and the starting pitcher with the respective game ids. This will be the first attempt of gathering\n",
    "    #    the starting lineup.\n",
    "    # Function Parameters: game_id (The game_id you wish to use to get the game participants.)\n",
    "    #    prev_query (The path to the results of a previous query.)\n",
    "    # Function Throws: Nothing\n",
    "    # Function Returns: A tuple containing two lists. The first list contains the home team names while the second list contains the away teams.\n",
    "\n",
    "    # Home Team equals 1 for Batting Team. The query is formatted like such: \n",
    "    #     Game_ID, Batting_Team, Pitcher_Name, Catcher, Center_Field, Left_Field, Right_Field, First_Base, Second_Base, Third_Base, Shortstop\n",
    "    \n",
    "    col_names = ['Game_ID', 'Batting_Team', 'Pitching_Name', 'Catcher', 'Center_Field', 'Left_Field', 'Right_Field', 'First_Base', 'Second_Base', 'Third_Base', 'Shortstop', 'idEvent']\n",
    "    if prev_query != None:                  # Check if the query was executed before prior to performing another query.\n",
    "        with open(prev_query, 'rb') as f:\n",
    "            data = pickle.load(f)\n",
    "            return pd.DataFrame(list(data), columns=col_names)\n",
    "    game_participants = fetch_data(\"\"\" select Distinct game_day.Game_ID, batter_in_event.Batting_Team, pitcher_in_event.Pitcher_Name,       \n",
    "                                        event_catcher.Catcher, event_centre_field.Center_Field, event_left_field.Left_Field,\n",
    "                                        event_right_field.Right_Field, event_first_base.First_Base, event_second_base.Second_Base, \n",
    "                                        event_third_base.Third_Base, event_shortstop.Shortstop, event_instance.idEvent\n",
    "                                            from game_day\n",
    "                                            inner join event_instance on game_day.Game_ID=event_instance.Game_ID\n",
    "                                            inner join batter_in_event on event_instance.idEvent=batter_in_event.idEvent\n",
    "                                            inner join pitcher_in_event on pitcher_in_event.idEvent=event_instance.idEvent\n",
    "                                            inner join event_catcher on event_catcher.idEvent=event_instance.idEvent\n",
    "                                            inner join event_centre_field on event_centre_field.idEvent=event_instance.idEvent\n",
    "                                            inner join event_left_field on event_left_field.idEvent=event_instance.idEvent\n",
    "                                            inner join event_right_field on event_right_field.idEvent=event_instance.idEvent\n",
    "                                            inner join event_first_base on event_first_base.idEvent=event_instance.idEvent\n",
    "                                            inner join event_second_base on event_second_base.idEvent=event_instance.idEvent\n",
    "                                            inner join event_third_base on event_third_base.idEvent=event_instance.idEvent\n",
    "                                            inner join event_shortstop on event_shortstop.idEvent=event_instance.idEvent\n",
    "                                            where Year(game_day.Date) > 1989 and Year(game_day.Date) < 1991;\n",
    "                                            \"\"\")\n",
    "    with open(r'C:\\Users\\micha\\Documents\\Baseball_Analytics_Source_Data\\model_v1\\temp_pk.pickle', 'wb') as f:\n",
    "        pickle.dump(game_participants, f)\n",
    "    return pd.DataFrame(list(game_participants), columns=col_names)\n",
    "\n",
    "# def get_offensive_features(player_id, game_id):\n",
    "\n",
    "#     # Function Description: Retrieve the features of a given player prior to entering the new game. The features are available from the previous game.\n",
    "#     # Function Parameters: player_id (The player id associated in which we wish to retrieve the data.), game_id (The game id needed to look backwards.)\n",
    "#     # Function Throws: Nothing\n",
    "#     # Function Returns: A list containing the offensive features. The amount of features was determined in previous queries but does not matter in this function.\n",
    "#     #    If the player does not have much data, I will be returning -1 to signal the prescence of a new player.\n",
    "\n",
    "#     features = fetch_data(\"\"\"\n",
    "#                                 select Ten_Rolling_BA, Ten_Rolling_OBP, Ten_Rolling_SLG from offensive_features inner join\n",
    "#                                 game_day on game_day.Game_ID=offensive_features.Game_ID\n",
    "#                                 where player_id = '{}'\n",
    "#                                 and game_day.Date < (select game_day.Date from game_day where game_day.Game_ID = '{}')\n",
    "#                                 order by game_day.Date Desc;\n",
    "#                                 \"\"\".format(player_id, game_id))\n",
    "#     if len(features) < 10:\n",
    "#         return [-1, -1, -1]\n",
    "#     return list(features[0])                           # Return the first row which contains the data from the previous day.\n",
    "\n",
    "# def get_pitchers_features(player_id, game_id):\n",
    "\n",
    "#     # Function Description: Retrieve the features of a given pitcher prior to entering the new game. The features are available from the previous game.\n",
    "#     # Function Parameters: player_id (The player id associated in which we wish to retrieve the data.), game_id (The game id needed to look backwards.)\n",
    "#     # Function Throws: Nothing\n",
    "#     # Function Returns: A list containing the offensive features. The amount of features was determined in previous queries but does not matter in this function.\n",
    "#     #    If the player does not have much data, I will be returning -1 to signal the prescence of a new player.\n",
    "\n",
    "#     features = fetch_data(\"\"\"\n",
    "#                                 select Ten_Rolling_Ks, Ten_Rolling_WHIP, Ten_Rolling_RA from pitching_features inner join\n",
    "#                                 game_day on game_day.Game_ID=pitching_features.Game_ID\n",
    "#                                 where player_id = '{}'\n",
    "#                                 and game_day.Date < (select game_day.Date from game_day where game_day.Game_ID = '{}')\n",
    "#                                 order by game_day.Date Desc;\n",
    "#                                 \"\"\".format(player_id, game_id))\n",
    "#     if len(features) < 5:                              # I reduced the number of previous games for pitcher by half.\n",
    "#         return [-1, -1, -1]\n",
    "#     return list(features[0])                           # Return the first row which contains the data from the previous day.\n",
    "\n",
    "# def sub_pitching_features(pitchers, game_id):\n",
    "\n",
    "#     # Function Description: Substitute the pitcher ids provided with the pitching features. The features will be returned in the same order the names are provided.\n",
    "#     # Function Parameters: pitchers (The player id we wish to retrieve the data for.), game_id (The game id needed to look backwards.) \n",
    "#     # Function Throws: Nothing\n",
    "#     # Function Returns: A complete list of the featues to be inputted into the model. The list will vary depending on the number of players and features for each player.\n",
    "\n",
    "#     pitcher_features = []\n",
    "#     print(len(pitchers))\n",
    "#     for pitcher in pitchers:\n",
    "#         pitcher_features += get_pitchers_features(pitcher, game_id)\n",
    "#     return [float(feat) for feat in pitcher_features]\n",
    "\n",
    "# def sub_offensive_features(batters, game_id):\n",
    "\n",
    "#     # Function Description: Substitute the batters ids provided with the batting features. The features will be returned in the same order the names are provided.\n",
    "#     # Function Parameters: batters (The player id we wish to retrieve the data for.), game_id (The game id needed to look backwards.) \n",
    "#     # Function Throws: Nothing\n",
    "#     # Function Returns: A complete list of the featues to be inputted into the model. The list will vary depending on the number of players and features for each player.\n",
    "\n",
    "#     offensive_features = []\n",
    "#     for batter in batters:\n",
    "#         print(batter)\n",
    "#         offensive_features += get_offensive_features(batter, game_id)\n",
    "#     print(type(offensive_features[0]))\n",
    "#     return [float(feat) for feat in offensive_features]\n",
    "\n",
    "# def get_game_features(game_id):\n",
    "\n",
    "#     # Function Description: Get all the features for a given game id. This involves getting the players who played in the game and then retrieving their associated features.\n",
    "#     # Function Parameters: game_id (The game id used to acquire the player features.)\n",
    "#     # Function Throws: Nothing\n",
    "#     # Function Returns: A single list containing the features of the game.\n",
    "\n",
    "#     game_features = []\n",
    "#     vis_players, home_players = get_players_in_game_vOne(game_id)\n",
    "#     game_features += sub_pitching_features([vis_players[0]], game_id)         # Add all the visitor players to the feature sets.\n",
    "#     game_features += sub_offensive_features(vis_players[1:], game_id)\n",
    "#     game_features += sub_pitching_features([home_players[0]], game_id)        # Add all the home players to the feature sets.\n",
    "#     game_features += sub_offensive_features(home_players[1:], game_id)             \n",
    "#     print(\"At the night show\")\n",
    "#     return game_features\n",
    "\n",
    "# def get_all_game_features(game_ids):\n",
    "\n",
    "#     # Function Description: Given a list of game ids, retrieve the features for every game.\n",
    "#     # Function Parameters: game_ids (The list of game ids.)\n",
    "#     # Function Throws: Nothing\n",
    "#     # Function Returns: A list of lists containing the game features.\n",
    "\n",
    "#     num_games = len(game_ids)\n",
    "#     all_game_features = {}\n",
    "#     lh = Log_Helper()\n",
    "#     lh.print_progress_bar(0, num_games, prefix = 'Progress:', suffix = 'Complete', length = 50)           # Initial call to print 0% progress\n",
    "#     for num, game_id in enumerate(game_ids):\n",
    "#         all_game_features[game_id] = get_game_features(game_id)\n",
    "#         lh.print_progress_bar(num + 1, num_games, prefix = 'Progress:', suffix = 'Complete', length = 50)           # Initial call to print 0% progress\n",
    "#     return all_game_features"
   ]
  },
  {
   "cell_type": "code",
   "execution_count": null,
   "metadata": {},
   "outputs": [],
   "source": [
    "# Get only the feature ids.\n",
    "from pathlib import Path\n",
    "dataframe_locs = Path(r'C:\\Users\\micha\\Documents\\Baseball_Analytics_Source_Data\\model_v1')\n",
    "pickle_name = 'temp_pk.pickle'\n",
    "a = get_players_in_game_vOne('as')#, dataframe_locs / pickle_name)"
   ]
  },
  {
   "cell_type": "code",
   "execution_count": null,
   "metadata": {},
   "outputs": [],
   "source": [
    "a"
   ]
  },
  {
   "cell_type": "code",
   "execution_count": null,
   "metadata": {},
   "outputs": [],
   "source": [
    "a.loc[a['Game_ID'] == 'ANA199704020']"
   ]
  },
  {
   "cell_type": "code",
   "execution_count": null,
   "metadata": {},
   "outputs": [],
   "source": []
  },
  {
   "cell_type": "code",
   "execution_count": null,
   "metadata": {},
   "outputs": [],
   "source": []
  },
  {
   "cell_type": "code",
   "execution_count": null,
   "metadata": {},
   "outputs": [],
   "source": []
  }
 ],
 "metadata": {
  "kernelspec": {
   "display_name": "Python 3.7.1 64-bit",
   "language": "python",
   "name": "python37164bite7ff45ce47a142899b62dd87dcc08a30"
  },
  "language_info": {
   "codemirror_mode": {
    "name": "ipython",
    "version": 3
   },
   "file_extension": ".py",
   "mimetype": "text/x-python",
   "name": "python",
   "nbconvert_exporter": "python",
   "pygments_lexer": "ipython3",
   "version": "3.7.1"
  }
 },
 "nbformat": 4,
 "nbformat_minor": 4
}
